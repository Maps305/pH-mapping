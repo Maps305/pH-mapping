{
 "cells": [
  {
   "cell_type": "markdown",
   "metadata": {},
   "source": [
    "## pH Mapping\n",
    "\n",
    "- W. Mutatu\n",
    "- A. Marungudze\n",
    "- S. G. Mampengesi"
   ]
  },
  {
   "cell_type": "code",
   "execution_count": 26,
   "metadata": {},
   "outputs": [
    {
     "data": {
      "text/plain": [
       "Index(['Date Received', 'Unnamed: 1', 'Remarks', 'Lab Ref ', 'Batch',\n",
       "       'SOURCE/OWNER', 'farm /sec', 'Field #', 'Plot #', 'Rep #', 'Trial #',\n",
       "       'Sampling Date', 'Depth (cm)', 'Colour', 'Texture', 'Clay (%)',\n",
       "       'Silt (%)', 'Sand (%)', 'OM (%)', 'pH (CaCl2)', 'EC (uS/cm)',\n",
       "       'P2O5 (ppm)', 'K (ppm)', 'Ca (ppm)', 'Mg (ppm)', 'Na (ppm)', 'SO4',\n",
       "       'Initial N', 'Incubated N', 'Paste EC', 'Extract EC', 'Percentage',\n",
       "       'K me/L', 'Ca me/L', 'Mg me/L', 'Na me/L', 'Cu (ppm)', 'Zn (ppm)',\n",
       "       'Fe (ppm)', 'Mn (ppm)', 'Al (ppm)', 'TOTAL N', 'TOTAL N.1', 'K (me/L)',\n",
       "       'Ca (me/L)', 'Mg (me/L)', 'Na (me/L)', '%', 'N(initial)',\n",
       "       'N(incubated)'],\n",
       "      dtype='object')"
      ]
     },
     "execution_count": 26,
     "metadata": {},
     "output_type": "execute_result"
    }
   ],
   "source": [
    "import pandas as pd\n",
    "data = pd.read_excel(\"Estates Growers & ZSAES Soil 2023.xls\")\n",
    "data.columns"
   ]
  },
  {
   "cell_type": "code",
   "execution_count": 27,
   "metadata": {},
   "outputs": [
    {
     "data": {
      "text/html": [
       "<div>\n",
       "<style scoped>\n",
       "    .dataframe tbody tr th:only-of-type {\n",
       "        vertical-align: middle;\n",
       "    }\n",
       "\n",
       "    .dataframe tbody tr th {\n",
       "        vertical-align: top;\n",
       "    }\n",
       "\n",
       "    .dataframe thead th {\n",
       "        text-align: right;\n",
       "    }\n",
       "</style>\n",
       "<table border=\"1\" class=\"dataframe\">\n",
       "  <thead>\n",
       "    <tr style=\"text-align: right;\">\n",
       "      <th></th>\n",
       "      <th>Lab Ref</th>\n",
       "      <th>SOURCE/OWNER</th>\n",
       "      <th>farm /sec</th>\n",
       "      <th>Field #</th>\n",
       "      <th>pH (CaCl2)</th>\n",
       "    </tr>\n",
       "  </thead>\n",
       "  <tbody>\n",
       "    <tr>\n",
       "      <th>0</th>\n",
       "      <td>HS01</td>\n",
       "      <td>HVE</td>\n",
       "      <td>25</td>\n",
       "      <td>2504 A</td>\n",
       "      <td>6.13</td>\n",
       "    </tr>\n",
       "    <tr>\n",
       "      <th>1</th>\n",
       "      <td>HS02</td>\n",
       "      <td>HVE</td>\n",
       "      <td>8</td>\n",
       "      <td>834 A</td>\n",
       "      <td>7.10</td>\n",
       "    </tr>\n",
       "    <tr>\n",
       "      <th>2</th>\n",
       "      <td>HS03</td>\n",
       "      <td>HVE</td>\n",
       "      <td>8</td>\n",
       "      <td>834 E</td>\n",
       "      <td>7.04</td>\n",
       "    </tr>\n",
       "    <tr>\n",
       "      <th>3</th>\n",
       "      <td>HS04</td>\n",
       "      <td>HVE</td>\n",
       "      <td>22</td>\n",
       "      <td>2223 A</td>\n",
       "      <td>7.09</td>\n",
       "    </tr>\n",
       "    <tr>\n",
       "      <th>4</th>\n",
       "      <td>HS05</td>\n",
       "      <td>HVE</td>\n",
       "      <td>2</td>\n",
       "      <td>235</td>\n",
       "      <td>6.99</td>\n",
       "    </tr>\n",
       "  </tbody>\n",
       "</table>\n",
       "</div>"
      ],
      "text/plain": [
       "  Lab Ref  SOURCE/OWNER farm /sec Field #  pH (CaCl2)\n",
       "0     HS01          HVE        25  2504 A        6.13\n",
       "1     HS02          HVE         8   834 A        7.10\n",
       "2     HS03          HVE         8   834 E        7.04\n",
       "3     HS04          HVE        22  2223 A        7.09\n",
       "4     HS05          HVE         2     235        6.99"
      ]
     },
     "execution_count": 27,
     "metadata": {},
     "output_type": "execute_result"
    }
   ],
   "source": [
    "data = data[['Lab Ref ', 'SOURCE/OWNER', 'farm /sec', 'Field #', 'pH (CaCl2)']]\n",
    "data['pH (CaCl2)'] = data['pH (CaCl2)'].astype(float)\n",
    "data.head()"
   ]
  },
  {
   "cell_type": "code",
   "execution_count": 28,
   "metadata": {},
   "outputs": [
    {
     "name": "stdout",
     "output_type": "stream",
     "text": [
      "<class 'pandas.core.frame.DataFrame'>\n",
      "RangeIndex: 5648 entries, 0 to 5647\n",
      "Data columns (total 5 columns):\n",
      " #   Column        Non-Null Count  Dtype  \n",
      "---  ------        --------------  -----  \n",
      " 0   Lab Ref       5644 non-null   object \n",
      " 1   SOURCE/OWNER  5641 non-null   object \n",
      " 2   farm /sec     5376 non-null   object \n",
      " 3   Field #       5068 non-null   object \n",
      " 4   pH (CaCl2)    5600 non-null   float64\n",
      "dtypes: float64(1), object(4)\n",
      "memory usage: 220.8+ KB\n"
     ]
    }
   ],
   "source": [
    "data.info()"
   ]
  },
  {
   "cell_type": "code",
   "execution_count": 29,
   "metadata": {},
   "outputs": [
    {
     "data": {
      "text/plain": [
       "326"
      ]
     },
     "execution_count": 29,
     "metadata": {},
     "output_type": "execute_result"
    }
   ],
   "source": [
    "data['SOURCE/OWNER'].nunique()"
   ]
  },
  {
   "cell_type": "code",
   "execution_count": 30,
   "metadata": {},
   "outputs": [],
   "source": [
    "# categorising the sample as either from Triangle, Hippo Valley, Mkwasine, ZSAES\n",
    "cats = []\n",
    "for obs in data['Lab Ref ']:\n",
    "    if(str(obs).startswith('TS')):\n",
    "        cats.append('TRI')\n",
    "    elif(str(obs).startswith('HS')):\n",
    "        cats.append('HVE')\n",
    "    elif(str(obs).startswith('MS')):\n",
    "        cats.append('MKW')\n",
    "    elif(str(obs).startswith('ZS')):\n",
    "        cats.append('ZSAES')\n",
    "    else:\n",
    "        cats.append('Private')"
   ]
  },
  {
   "cell_type": "code",
   "execution_count": 31,
   "metadata": {},
   "outputs": [
    {
     "data": {
      "text/html": [
       "<div>\n",
       "<style scoped>\n",
       "    .dataframe tbody tr th:only-of-type {\n",
       "        vertical-align: middle;\n",
       "    }\n",
       "\n",
       "    .dataframe tbody tr th {\n",
       "        vertical-align: top;\n",
       "    }\n",
       "\n",
       "    .dataframe thead th {\n",
       "        text-align: right;\n",
       "    }\n",
       "</style>\n",
       "<table border=\"1\" class=\"dataframe\">\n",
       "  <thead>\n",
       "    <tr style=\"text-align: right;\">\n",
       "      <th></th>\n",
       "      <th>Lab Ref</th>\n",
       "      <th>SOURCE/OWNER</th>\n",
       "      <th>farm /sec</th>\n",
       "      <th>Field #</th>\n",
       "      <th>pH (CaCl2)</th>\n",
       "      <th>zone</th>\n",
       "    </tr>\n",
       "  </thead>\n",
       "  <tbody>\n",
       "    <tr>\n",
       "      <th>0</th>\n",
       "      <td>HS01</td>\n",
       "      <td>HVE</td>\n",
       "      <td>25</td>\n",
       "      <td>2504 A</td>\n",
       "      <td>6.13</td>\n",
       "      <td>HVE</td>\n",
       "    </tr>\n",
       "    <tr>\n",
       "      <th>1</th>\n",
       "      <td>HS02</td>\n",
       "      <td>HVE</td>\n",
       "      <td>8</td>\n",
       "      <td>834 A</td>\n",
       "      <td>7.10</td>\n",
       "      <td>HVE</td>\n",
       "    </tr>\n",
       "    <tr>\n",
       "      <th>2</th>\n",
       "      <td>HS03</td>\n",
       "      <td>HVE</td>\n",
       "      <td>8</td>\n",
       "      <td>834 E</td>\n",
       "      <td>7.04</td>\n",
       "      <td>HVE</td>\n",
       "    </tr>\n",
       "    <tr>\n",
       "      <th>3</th>\n",
       "      <td>HS04</td>\n",
       "      <td>HVE</td>\n",
       "      <td>22</td>\n",
       "      <td>2223 A</td>\n",
       "      <td>7.09</td>\n",
       "      <td>HVE</td>\n",
       "    </tr>\n",
       "    <tr>\n",
       "      <th>4</th>\n",
       "      <td>HS05</td>\n",
       "      <td>HVE</td>\n",
       "      <td>2</td>\n",
       "      <td>235</td>\n",
       "      <td>6.99</td>\n",
       "      <td>HVE</td>\n",
       "    </tr>\n",
       "  </tbody>\n",
       "</table>\n",
       "</div>"
      ],
      "text/plain": [
       "  Lab Ref  SOURCE/OWNER farm /sec Field #  pH (CaCl2) zone\n",
       "0     HS01          HVE        25  2504 A        6.13  HVE\n",
       "1     HS02          HVE         8   834 A        7.10  HVE\n",
       "2     HS03          HVE         8   834 E        7.04  HVE\n",
       "3     HS04          HVE        22  2223 A        7.09  HVE\n",
       "4     HS05          HVE         2     235        6.99  HVE"
      ]
     },
     "execution_count": 31,
     "metadata": {},
     "output_type": "execute_result"
    }
   ],
   "source": [
    "data['zone'] = cats\n",
    "data.head()"
   ]
  },
  {
   "cell_type": "code",
   "execution_count": 32,
   "metadata": {},
   "outputs": [
    {
     "data": {
      "text/plain": [
       "zone\n",
       "HVE        2239\n",
       "ZSAES      1493\n",
       "TRI        1146\n",
       "MKW         561\n",
       "Private     209\n",
       "Name: count, dtype: int64"
      ]
     },
     "execution_count": 32,
     "metadata": {},
     "output_type": "execute_result"
    }
   ],
   "source": [
    "data['zone'].value_counts()"
   ]
  },
  {
   "cell_type": "code",
   "execution_count": 33,
   "metadata": {},
   "outputs": [
    {
     "data": {
      "text/plain": [
       "Lab Ref           4\n",
       "SOURCE/OWNER      7\n",
       "farm /sec       272\n",
       "Field #         580\n",
       "pH (CaCl2)       48\n",
       "zone              0\n",
       "dtype: int64"
      ]
     },
     "execution_count": 33,
     "metadata": {},
     "output_type": "execute_result"
    }
   ],
   "source": [
    "# checking for null values\n",
    "data.isnull().sum()"
   ]
  },
  {
   "cell_type": "code",
   "execution_count": 34,
   "metadata": {},
   "outputs": [],
   "source": [
    "# dropping rows with nulls for pH and farm sect\n",
    "data = data.dropna(subset=['pH (CaCl2)', 'farm /sec'])\n"
   ]
  },
  {
   "cell_type": "code",
   "execution_count": 35,
   "metadata": {},
   "outputs": [
    {
     "name": "stdout",
     "output_type": "stream",
     "text": [
      "<class 'pandas.core.frame.DataFrame'>\n",
      "Index: 5334 entries, 0 to 5644\n",
      "Data columns (total 6 columns):\n",
      " #   Column        Non-Null Count  Dtype  \n",
      "---  ------        --------------  -----  \n",
      " 0   Lab Ref       5334 non-null   object \n",
      " 1   SOURCE/OWNER  5332 non-null   object \n",
      " 2   farm /sec     5334 non-null   object \n",
      " 3   Field #       4782 non-null   object \n",
      " 4   pH (CaCl2)    5334 non-null   float64\n",
      " 5   zone          5334 non-null   object \n",
      "dtypes: float64(1), object(5)\n",
      "memory usage: 291.7+ KB\n"
     ]
    }
   ],
   "source": [
    "data.info()"
   ]
  },
  {
   "cell_type": "code",
   "execution_count": 36,
   "metadata": {},
   "outputs": [],
   "source": [
    "data = data[data['zone'] != 'Private']"
   ]
  },
  {
   "cell_type": "code",
   "execution_count": 37,
   "metadata": {},
   "outputs": [],
   "source": [
    "grouped = data.groupby('zone')['pH (CaCl2)'].agg('mean')"
   ]
  },
  {
   "cell_type": "code",
   "execution_count": 38,
   "metadata": {},
   "outputs": [
    {
     "data": {
      "text/plain": [
       "zone\n",
       "HVE      7.019249\n",
       "MKW      6.463987\n",
       "TRI      6.737655\n",
       "ZSAES    6.626129\n",
       "Name: pH (CaCl2), dtype: float64"
      ]
     },
     "execution_count": 38,
     "metadata": {},
     "output_type": "execute_result"
    }
   ],
   "source": [
    "grouped.head()"
   ]
  },
  {
   "cell_type": "code",
   "execution_count": 39,
   "metadata": {},
   "outputs": [],
   "source": [
    "grouped.to_excel('summarised_by_zone.xlsx')"
   ]
  },
  {
   "cell_type": "code",
   "execution_count": 40,
   "metadata": {},
   "outputs": [
    {
     "data": {
      "text/html": [
       "<div>\n",
       "<style scoped>\n",
       "    .dataframe tbody tr th:only-of-type {\n",
       "        vertical-align: middle;\n",
       "    }\n",
       "\n",
       "    .dataframe tbody tr th {\n",
       "        vertical-align: top;\n",
       "    }\n",
       "\n",
       "    .dataframe thead th {\n",
       "        text-align: right;\n",
       "    }\n",
       "</style>\n",
       "<table border=\"1\" class=\"dataframe\">\n",
       "  <thead>\n",
       "    <tr style=\"text-align: right;\">\n",
       "      <th></th>\n",
       "      <th>Lab Ref</th>\n",
       "      <th>SOURCE/OWNER</th>\n",
       "      <th>farm /sec</th>\n",
       "      <th>Field #</th>\n",
       "      <th>pH (CaCl2)</th>\n",
       "      <th>zone</th>\n",
       "    </tr>\n",
       "  </thead>\n",
       "  <tbody>\n",
       "    <tr>\n",
       "      <th>0</th>\n",
       "      <td>HS01</td>\n",
       "      <td>HVE</td>\n",
       "      <td>25</td>\n",
       "      <td>2504 A</td>\n",
       "      <td>6.13</td>\n",
       "      <td>HVE</td>\n",
       "    </tr>\n",
       "    <tr>\n",
       "      <th>1</th>\n",
       "      <td>HS02</td>\n",
       "      <td>HVE</td>\n",
       "      <td>8</td>\n",
       "      <td>834 A</td>\n",
       "      <td>7.10</td>\n",
       "      <td>HVE</td>\n",
       "    </tr>\n",
       "    <tr>\n",
       "      <th>2</th>\n",
       "      <td>HS03</td>\n",
       "      <td>HVE</td>\n",
       "      <td>8</td>\n",
       "      <td>834 E</td>\n",
       "      <td>7.04</td>\n",
       "      <td>HVE</td>\n",
       "    </tr>\n",
       "    <tr>\n",
       "      <th>3</th>\n",
       "      <td>HS04</td>\n",
       "      <td>HVE</td>\n",
       "      <td>22</td>\n",
       "      <td>2223 A</td>\n",
       "      <td>7.09</td>\n",
       "      <td>HVE</td>\n",
       "    </tr>\n",
       "    <tr>\n",
       "      <th>4</th>\n",
       "      <td>HS05</td>\n",
       "      <td>HVE</td>\n",
       "      <td>2</td>\n",
       "      <td>235</td>\n",
       "      <td>6.99</td>\n",
       "      <td>HVE</td>\n",
       "    </tr>\n",
       "  </tbody>\n",
       "</table>\n",
       "</div>"
      ],
      "text/plain": [
       "  Lab Ref  SOURCE/OWNER farm /sec Field #  pH (CaCl2) zone\n",
       "0     HS01          HVE        25  2504 A        6.13  HVE\n",
       "1     HS02          HVE         8   834 A        7.10  HVE\n",
       "2     HS03          HVE         8   834 E        7.04  HVE\n",
       "3     HS04          HVE        22  2223 A        7.09  HVE\n",
       "4     HS05          HVE         2     235        6.99  HVE"
      ]
     },
     "execution_count": 40,
     "metadata": {},
     "output_type": "execute_result"
    }
   ],
   "source": [
    "# group by area section \n",
    "data.head()"
   ]
  },
  {
   "cell_type": "code",
   "execution_count": 41,
   "metadata": {},
   "outputs": [],
   "source": [
    "# to be removed when adding individual farm data\n",
    "data['farm /sec'] = pd.to_numeric(data['farm /sec'], errors='coerce')"
   ]
  },
  {
   "cell_type": "code",
   "execution_count": 42,
   "metadata": {},
   "outputs": [
    {
     "data": {
      "text/html": [
       "<div>\n",
       "<style scoped>\n",
       "    .dataframe tbody tr th:only-of-type {\n",
       "        vertical-align: middle;\n",
       "    }\n",
       "\n",
       "    .dataframe tbody tr th {\n",
       "        vertical-align: top;\n",
       "    }\n",
       "\n",
       "    .dataframe thead th {\n",
       "        text-align: right;\n",
       "    }\n",
       "</style>\n",
       "<table border=\"1\" class=\"dataframe\">\n",
       "  <thead>\n",
       "    <tr style=\"text-align: right;\">\n",
       "      <th></th>\n",
       "      <th>Lab Ref</th>\n",
       "      <th>SOURCE/OWNER</th>\n",
       "      <th>farm /sec</th>\n",
       "      <th>Field #</th>\n",
       "      <th>pH (CaCl2)</th>\n",
       "      <th>zone</th>\n",
       "      <th>zone_1</th>\n",
       "    </tr>\n",
       "  </thead>\n",
       "  <tbody>\n",
       "    <tr>\n",
       "      <th>0</th>\n",
       "      <td>HS01</td>\n",
       "      <td>HVE</td>\n",
       "      <td>25.0</td>\n",
       "      <td>2504 A</td>\n",
       "      <td>6.13</td>\n",
       "      <td>HVE</td>\n",
       "      <td>HVE - 25.0</td>\n",
       "    </tr>\n",
       "    <tr>\n",
       "      <th>1</th>\n",
       "      <td>HS02</td>\n",
       "      <td>HVE</td>\n",
       "      <td>8.0</td>\n",
       "      <td>834 A</td>\n",
       "      <td>7.10</td>\n",
       "      <td>HVE</td>\n",
       "      <td>HVE - 8.0</td>\n",
       "    </tr>\n",
       "    <tr>\n",
       "      <th>2</th>\n",
       "      <td>HS03</td>\n",
       "      <td>HVE</td>\n",
       "      <td>8.0</td>\n",
       "      <td>834 E</td>\n",
       "      <td>7.04</td>\n",
       "      <td>HVE</td>\n",
       "      <td>HVE - 8.0</td>\n",
       "    </tr>\n",
       "    <tr>\n",
       "      <th>3</th>\n",
       "      <td>HS04</td>\n",
       "      <td>HVE</td>\n",
       "      <td>22.0</td>\n",
       "      <td>2223 A</td>\n",
       "      <td>7.09</td>\n",
       "      <td>HVE</td>\n",
       "      <td>HVE - 22.0</td>\n",
       "    </tr>\n",
       "    <tr>\n",
       "      <th>4</th>\n",
       "      <td>HS05</td>\n",
       "      <td>HVE</td>\n",
       "      <td>2.0</td>\n",
       "      <td>235</td>\n",
       "      <td>6.99</td>\n",
       "      <td>HVE</td>\n",
       "      <td>HVE - 2.0</td>\n",
       "    </tr>\n",
       "  </tbody>\n",
       "</table>\n",
       "</div>"
      ],
      "text/plain": [
       "  Lab Ref  SOURCE/OWNER  farm /sec Field #  pH (CaCl2) zone      zone_1\n",
       "0     HS01          HVE       25.0  2504 A        6.13  HVE  HVE - 25.0\n",
       "1     HS02          HVE        8.0   834 A        7.10  HVE   HVE - 8.0\n",
       "2     HS03          HVE        8.0   834 E        7.04  HVE   HVE - 8.0\n",
       "3     HS04          HVE       22.0  2223 A        7.09  HVE  HVE - 22.0\n",
       "4     HS05          HVE        2.0     235        6.99  HVE   HVE - 2.0"
      ]
     },
     "execution_count": 42,
     "metadata": {},
     "output_type": "execute_result"
    }
   ],
   "source": [
    "data['zone_1'] = data['zone'] + ' - ' + data['farm /sec'].astype(str)\n",
    "data.head()"
   ]
  },
  {
   "cell_type": "code",
   "execution_count": 43,
   "metadata": {},
   "outputs": [
    {
     "name": "stdout",
     "output_type": "stream",
     "text": [
      "zone_1\n",
      "ZSAES - nan     1399\n",
      "MKW - nan        451\n",
      "HVE - nan        334\n",
      "HVE - 8.0        271\n",
      "TRI - nan        192\n",
      "                ... \n",
      "HVE - 308.0        1\n",
      "HVE - 41.0         1\n",
      "TRI - 5.0          1\n",
      "MKW - 610.0        1\n",
      "HVE - 6144.0       1\n",
      "Name: count, Length: 78, dtype: int64\n"
     ]
    }
   ],
   "source": [
    "all = data['zone_1'].value_counts()\n",
    "print(all)"
   ]
  },
  {
   "cell_type": "code",
   "execution_count": 44,
   "metadata": {},
   "outputs": [],
   "source": [
    "# grouped_2 = data.groupby('zone_1')['pH (CaCl2)'].agg(['mean', 'min', 'max'])\n",
    "\n",
    "# # min and max pH values\n",
    "# min_zone = data.loc[data['pH (CaCl2)'].idxmin(), 'zone_1']\n",
    "# max_zone = data.loc[data['pH (CaCl2)'].idxmax(), 'zone_1']\n",
    "\n",
    "# print(grouped_2.head())\n",
    "# print(f\"Zone with minimum pH: {min_zone}\")\n",
    "# print(f\"Zone with maximum pH: {max_zone}\")\n"
   ]
  },
  {
   "cell_type": "code",
   "execution_count": 45,
   "metadata": {},
   "outputs": [
    {
     "name": "stdout",
     "output_type": "stream",
     "text": [
      "          zone_1      mean   min   max sect_pH_min sect_pH_max\n",
      "0     HVE - 10.0  7.540548  6.74  8.83        1054        1016\n",
      "1     HVE - 11.0  6.458000  5.15  7.88        1147       1118B\n",
      "2     HVE - 12.0  6.825345  5.52  7.79        1213       H1257\n",
      "3     HVE - 14.0  6.573418  5.51  7.83        1454       1408K\n",
      "4    HVE - 140.0  6.453333  5.73  7.68       H1456        1401\n",
      "..           ...       ...   ...   ...         ...         ...\n",
      "73   ZSAES - 1.0  6.560000  6.23  7.38        5158        5158\n",
      "74  ZSAES - 14.0  7.261667  6.58  7.64         NaN         NaN\n",
      "75  ZSAES - 18.0  7.481774  6.39  8.43        1831        1831\n",
      "76  ZSAES - 20.0  6.405000  5.83  7.30        2002        2006\n",
      "77   ZSAES - nan  6.586305  0.30  8.72        L1 B         NaN\n",
      "\n",
      "[78 rows x 6 columns]\n"
     ]
    }
   ],
   "source": [
    "# Group by zone_1 and compute mean, min, and max pH\n",
    "grouped_2 = data.groupby('zone_1')['pH (CaCl2)'].agg(['mean', 'min', 'max']).reset_index()\n",
    "\n",
    "# Find the corresponding farm/section for min and max pH in each zone_1\n",
    "sect_pH_min = data.loc[data.groupby('zone_1')['pH (CaCl2)'].idxmin(), ['zone_1', 'Field #']]\n",
    "sect_pH_max = data.loc[data.groupby('zone_1')['pH (CaCl2)'].idxmax(), ['zone_1', 'Field #']]\n",
    "\n",
    "# Rename columns for clarity\n",
    "sect_pH_min = sect_pH_min.rename(columns={'Field #': 'sect_pH_min'})\n",
    "sect_pH_max = sect_pH_max.rename(columns={'Field #': 'sect_pH_max'})\n",
    "\n",
    "# Merge back with grouped data\n",
    "grouped_2 = grouped_2.merge(sect_pH_min, on='zone_1', how='left')\n",
    "grouped_2 = grouped_2.merge(sect_pH_max, on='zone_1', how='left')\n",
    "\n",
    "print(grouped_2)\n"
   ]
  },
  {
   "cell_type": "code",
   "execution_count": 46,
   "metadata": {},
   "outputs": [],
   "source": [
    "grouped_2.to_excel(\"Grouped 2 2023.xlsx\")\n"
   ]
  }
 ],
 "metadata": {
  "kernelspec": {
   "display_name": "Python 3",
   "language": "python",
   "name": "python3"
  },
  "language_info": {
   "codemirror_mode": {
    "name": "ipython",
    "version": 3
   },
   "file_extension": ".py",
   "mimetype": "text/x-python",
   "name": "python",
   "nbconvert_exporter": "python",
   "pygments_lexer": "ipython3",
   "version": "3.11.9"
  }
 },
 "nbformat": 4,
 "nbformat_minor": 2
}
