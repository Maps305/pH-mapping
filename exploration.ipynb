{
 "cells": [
  {
   "cell_type": "markdown",
   "metadata": {},
   "source": [
    "## pH Mapping\n",
    "\n",
    "- W. Mutatu\n",
    "- A. Marungudze\n",
    "- S. G. Mampengesi"
   ]
  },
  {
   "cell_type": "code",
   "execution_count": 28,
   "metadata": {},
   "outputs": [
    {
     "data": {
      "text/plain": [
       "Index(['Date Received', 'Remarks', 'Lab Ref ', 'Batch', 'SOURCE/OWNER',\n",
       "       'farm /sec', 'Field #', 'Plot #', 'Rep #', 'Trial #', 'Sampling Date',\n",
       "       'Depth (cm)', 'Colour', 'Texture', 'Clay (%)', 'Silt (%)', 'Sand (%)',\n",
       "       'OM (%)', 'pH (CaCl2)', 'EC (uS/cm)', 'P2O5 (ppm)', 'K (ppm)',\n",
       "       'Ca (ppm)', 'Mg (ppm)', 'Na (ppm)', 'SO4', 'Initial N', 'Incubated N',\n",
       "       'Paste EC', 'Extract EC', 'Percentage', 'K me/L', 'Ca me/L', 'Mg me/L',\n",
       "       'Na me/L', 'Cu (ppm)', 'Zn (ppm)', 'Fe (ppm)', 'Mn (ppm)', 'Al (ppm)',\n",
       "       'TOTAL N', 'TOTAL N.1', 'K (me/L)', 'Ca (me/L)', 'Mg (me/L)',\n",
       "       'Na (me/L)', '%', 'N(initial)', 'N(incubated)'],\n",
       "      dtype='object')"
      ]
     },
     "execution_count": 28,
     "metadata": {},
     "output_type": "execute_result"
    }
   ],
   "source": [
    "import pandas as pd\n",
    "data = pd.read_excel(\"Estates Growers & ZSAES Soil 2024.xls\")\n",
    "data.columns"
   ]
  },
  {
   "cell_type": "code",
   "execution_count": 29,
   "metadata": {},
   "outputs": [
    {
     "data": {
      "text/html": [
       "<div>\n",
       "<style scoped>\n",
       "    .dataframe tbody tr th:only-of-type {\n",
       "        vertical-align: middle;\n",
       "    }\n",
       "\n",
       "    .dataframe tbody tr th {\n",
       "        vertical-align: top;\n",
       "    }\n",
       "\n",
       "    .dataframe thead th {\n",
       "        text-align: right;\n",
       "    }\n",
       "</style>\n",
       "<table border=\"1\" class=\"dataframe\">\n",
       "  <thead>\n",
       "    <tr style=\"text-align: right;\">\n",
       "      <th></th>\n",
       "      <th>Lab Ref</th>\n",
       "      <th>SOURCE/OWNER</th>\n",
       "      <th>farm /sec</th>\n",
       "      <th>Field #</th>\n",
       "      <th>pH (CaCl2)</th>\n",
       "    </tr>\n",
       "  </thead>\n",
       "  <tbody>\n",
       "    <tr>\n",
       "      <th>0</th>\n",
       "      <td>TS01</td>\n",
       "      <td>TRIANGLE</td>\n",
       "      <td>8</td>\n",
       "      <td>843</td>\n",
       "      <td>6.10</td>\n",
       "    </tr>\n",
       "    <tr>\n",
       "      <th>1</th>\n",
       "      <td>TS02</td>\n",
       "      <td>TRIANGLE</td>\n",
       "      <td>19</td>\n",
       "      <td>1910</td>\n",
       "      <td>5.86</td>\n",
       "    </tr>\n",
       "    <tr>\n",
       "      <th>2</th>\n",
       "      <td>TS03</td>\n",
       "      <td>TRIANGLE</td>\n",
       "      <td>02</td>\n",
       "      <td>0201</td>\n",
       "      <td>6.59</td>\n",
       "    </tr>\n",
       "    <tr>\n",
       "      <th>3</th>\n",
       "      <td>TS04</td>\n",
       "      <td>TRIANGLE</td>\n",
       "      <td>25</td>\n",
       "      <td>2518</td>\n",
       "      <td>6.22</td>\n",
       "    </tr>\n",
       "    <tr>\n",
       "      <th>4</th>\n",
       "      <td>TS05</td>\n",
       "      <td>TRIANGLE</td>\n",
       "      <td>19</td>\n",
       "      <td>1911</td>\n",
       "      <td>5.47</td>\n",
       "    </tr>\n",
       "  </tbody>\n",
       "</table>\n",
       "</div>"
      ],
      "text/plain": [
       "  Lab Ref  SOURCE/OWNER farm /sec Field #  pH (CaCl2)\n",
       "0     TS01     TRIANGLE         8     843        6.10\n",
       "1     TS02     TRIANGLE        19    1910        5.86\n",
       "2     TS03     TRIANGLE        02    0201        6.59\n",
       "3     TS04     TRIANGLE        25    2518        6.22\n",
       "4     TS05     TRIANGLE        19    1911        5.47"
      ]
     },
     "execution_count": 29,
     "metadata": {},
     "output_type": "execute_result"
    }
   ],
   "source": [
    "data = data[['Lab Ref ', 'SOURCE/OWNER', 'farm /sec', 'Field #', 'pH (CaCl2)']]\n",
    "data['pH (CaCl2)'] = data['pH (CaCl2)'].astype(float)\n",
    "data.head()"
   ]
  },
  {
   "cell_type": "code",
   "execution_count": 30,
   "metadata": {},
   "outputs": [
    {
     "name": "stdout",
     "output_type": "stream",
     "text": [
      "<class 'pandas.core.frame.DataFrame'>\n",
      "RangeIndex: 6006 entries, 0 to 6005\n",
      "Data columns (total 5 columns):\n",
      " #   Column        Non-Null Count  Dtype  \n",
      "---  ------        --------------  -----  \n",
      " 0   Lab Ref       6006 non-null   object \n",
      " 1   SOURCE/OWNER  5996 non-null   object \n",
      " 2   farm /sec     5810 non-null   object \n",
      " 3   Field #       5829 non-null   object \n",
      " 4   pH (CaCl2)    4988 non-null   float64\n",
      "dtypes: float64(1), object(4)\n",
      "memory usage: 234.7+ KB\n"
     ]
    }
   ],
   "source": [
    "data.info()"
   ]
  },
  {
   "cell_type": "code",
   "execution_count": 31,
   "metadata": {},
   "outputs": [
    {
     "data": {
      "text/plain": [
       "352"
      ]
     },
     "execution_count": 31,
     "metadata": {},
     "output_type": "execute_result"
    }
   ],
   "source": [
    "data['SOURCE/OWNER'].nunique()"
   ]
  },
  {
   "cell_type": "code",
   "execution_count": 32,
   "metadata": {},
   "outputs": [],
   "source": [
    "# categorising the sample as either from Triangle, Hippo Valley, Mkwasine, ZSAES\n",
    "cats = []\n",
    "for obs in data['Lab Ref ']:\n",
    "    if(str(obs).startswith('TS')):\n",
    "        cats.append('TRI')\n",
    "    elif(str(obs).startswith('HS')):\n",
    "        cats.append('HVE')\n",
    "    elif(str(obs).startswith('MS')):\n",
    "        cats.append('MKW')\n",
    "    elif(str(obs).startswith('ZS')):\n",
    "        cats.append('ZSAES')\n",
    "    else:\n",
    "        cats.append('Private')"
   ]
  },
  {
   "cell_type": "code",
   "execution_count": 33,
   "metadata": {},
   "outputs": [
    {
     "data": {
      "text/html": [
       "<div>\n",
       "<style scoped>\n",
       "    .dataframe tbody tr th:only-of-type {\n",
       "        vertical-align: middle;\n",
       "    }\n",
       "\n",
       "    .dataframe tbody tr th {\n",
       "        vertical-align: top;\n",
       "    }\n",
       "\n",
       "    .dataframe thead th {\n",
       "        text-align: right;\n",
       "    }\n",
       "</style>\n",
       "<table border=\"1\" class=\"dataframe\">\n",
       "  <thead>\n",
       "    <tr style=\"text-align: right;\">\n",
       "      <th></th>\n",
       "      <th>Lab Ref</th>\n",
       "      <th>SOURCE/OWNER</th>\n",
       "      <th>farm /sec</th>\n",
       "      <th>Field #</th>\n",
       "      <th>pH (CaCl2)</th>\n",
       "      <th>zone</th>\n",
       "    </tr>\n",
       "  </thead>\n",
       "  <tbody>\n",
       "    <tr>\n",
       "      <th>0</th>\n",
       "      <td>TS01</td>\n",
       "      <td>TRIANGLE</td>\n",
       "      <td>8</td>\n",
       "      <td>843</td>\n",
       "      <td>6.10</td>\n",
       "      <td>TRI</td>\n",
       "    </tr>\n",
       "    <tr>\n",
       "      <th>1</th>\n",
       "      <td>TS02</td>\n",
       "      <td>TRIANGLE</td>\n",
       "      <td>19</td>\n",
       "      <td>1910</td>\n",
       "      <td>5.86</td>\n",
       "      <td>TRI</td>\n",
       "    </tr>\n",
       "    <tr>\n",
       "      <th>2</th>\n",
       "      <td>TS03</td>\n",
       "      <td>TRIANGLE</td>\n",
       "      <td>02</td>\n",
       "      <td>0201</td>\n",
       "      <td>6.59</td>\n",
       "      <td>TRI</td>\n",
       "    </tr>\n",
       "    <tr>\n",
       "      <th>3</th>\n",
       "      <td>TS04</td>\n",
       "      <td>TRIANGLE</td>\n",
       "      <td>25</td>\n",
       "      <td>2518</td>\n",
       "      <td>6.22</td>\n",
       "      <td>TRI</td>\n",
       "    </tr>\n",
       "    <tr>\n",
       "      <th>4</th>\n",
       "      <td>TS05</td>\n",
       "      <td>TRIANGLE</td>\n",
       "      <td>19</td>\n",
       "      <td>1911</td>\n",
       "      <td>5.47</td>\n",
       "      <td>TRI</td>\n",
       "    </tr>\n",
       "  </tbody>\n",
       "</table>\n",
       "</div>"
      ],
      "text/plain": [
       "  Lab Ref  SOURCE/OWNER farm /sec Field #  pH (CaCl2) zone\n",
       "0     TS01     TRIANGLE         8     843        6.10  TRI\n",
       "1     TS02     TRIANGLE        19    1910        5.86  TRI\n",
       "2     TS03     TRIANGLE        02    0201        6.59  TRI\n",
       "3     TS04     TRIANGLE        25    2518        6.22  TRI\n",
       "4     TS05     TRIANGLE        19    1911        5.47  TRI"
      ]
     },
     "execution_count": 33,
     "metadata": {},
     "output_type": "execute_result"
    }
   ],
   "source": [
    "data['zone'] = cats\n",
    "data.head()"
   ]
  },
  {
   "cell_type": "code",
   "execution_count": 34,
   "metadata": {},
   "outputs": [
    {
     "data": {
      "text/plain": [
       "zone\n",
       "HVE        2589\n",
       "TRI        1568\n",
       "ZSAES      1303\n",
       "MKW         479\n",
       "Private      67\n",
       "Name: count, dtype: int64"
      ]
     },
     "execution_count": 34,
     "metadata": {},
     "output_type": "execute_result"
    }
   ],
   "source": [
    "data['zone'].value_counts()"
   ]
  },
  {
   "cell_type": "code",
   "execution_count": 35,
   "metadata": {},
   "outputs": [
    {
     "data": {
      "text/plain": [
       "Lab Ref            0\n",
       "SOURCE/OWNER      10\n",
       "farm /sec        196\n",
       "Field #          177\n",
       "pH (CaCl2)      1018\n",
       "zone               0\n",
       "dtype: int64"
      ]
     },
     "execution_count": 35,
     "metadata": {},
     "output_type": "execute_result"
    }
   ],
   "source": [
    "# checking for null values\n",
    "data.isnull().sum()"
   ]
  },
  {
   "cell_type": "code",
   "execution_count": 36,
   "metadata": {},
   "outputs": [],
   "source": [
    "# dropping rows with nulls for pH and farm sect\n",
    "data = data.dropna(subset=['pH (CaCl2)', 'farm /sec'])\n"
   ]
  },
  {
   "cell_type": "code",
   "execution_count": 37,
   "metadata": {},
   "outputs": [
    {
     "name": "stdout",
     "output_type": "stream",
     "text": [
      "<class 'pandas.core.frame.DataFrame'>\n",
      "Index: 4853 entries, 0 to 6005\n",
      "Data columns (total 6 columns):\n",
      " #   Column        Non-Null Count  Dtype  \n",
      "---  ------        --------------  -----  \n",
      " 0   Lab Ref       4853 non-null   object \n",
      " 1   SOURCE/OWNER  4850 non-null   object \n",
      " 2   farm /sec     4853 non-null   object \n",
      " 3   Field #       4744 non-null   object \n",
      " 4   pH (CaCl2)    4853 non-null   float64\n",
      " 5   zone          4853 non-null   object \n",
      "dtypes: float64(1), object(5)\n",
      "memory usage: 265.4+ KB\n"
     ]
    }
   ],
   "source": [
    "data.info()"
   ]
  },
  {
   "cell_type": "code",
   "execution_count": 38,
   "metadata": {},
   "outputs": [],
   "source": [
    "data = data[data['zone'] != 'Private']"
   ]
  },
  {
   "cell_type": "code",
   "execution_count": 39,
   "metadata": {},
   "outputs": [],
   "source": [
    "grouped = data.groupby('zone')['pH (CaCl2)'].agg('mean')"
   ]
  },
  {
   "cell_type": "code",
   "execution_count": 40,
   "metadata": {},
   "outputs": [
    {
     "data": {
      "text/plain": [
       "zone\n",
       "HVE      6.824165\n",
       "MKW      6.337812\n",
       "TRI      6.584855\n",
       "ZSAES    6.323579\n",
       "Name: pH (CaCl2), dtype: float64"
      ]
     },
     "execution_count": 40,
     "metadata": {},
     "output_type": "execute_result"
    }
   ],
   "source": [
    "grouped.head()"
   ]
  },
  {
   "cell_type": "code",
   "execution_count": 41,
   "metadata": {},
   "outputs": [],
   "source": [
    "grouped.to_excel('summarised_by_zone.xlsx')"
   ]
  },
  {
   "cell_type": "code",
   "execution_count": 42,
   "metadata": {},
   "outputs": [
    {
     "data": {
      "text/html": [
       "<div>\n",
       "<style scoped>\n",
       "    .dataframe tbody tr th:only-of-type {\n",
       "        vertical-align: middle;\n",
       "    }\n",
       "\n",
       "    .dataframe tbody tr th {\n",
       "        vertical-align: top;\n",
       "    }\n",
       "\n",
       "    .dataframe thead th {\n",
       "        text-align: right;\n",
       "    }\n",
       "</style>\n",
       "<table border=\"1\" class=\"dataframe\">\n",
       "  <thead>\n",
       "    <tr style=\"text-align: right;\">\n",
       "      <th></th>\n",
       "      <th>Lab Ref</th>\n",
       "      <th>SOURCE/OWNER</th>\n",
       "      <th>farm /sec</th>\n",
       "      <th>Field #</th>\n",
       "      <th>pH (CaCl2)</th>\n",
       "      <th>zone</th>\n",
       "    </tr>\n",
       "  </thead>\n",
       "  <tbody>\n",
       "    <tr>\n",
       "      <th>0</th>\n",
       "      <td>TS01</td>\n",
       "      <td>TRIANGLE</td>\n",
       "      <td>8</td>\n",
       "      <td>843</td>\n",
       "      <td>6.10</td>\n",
       "      <td>TRI</td>\n",
       "    </tr>\n",
       "    <tr>\n",
       "      <th>1</th>\n",
       "      <td>TS02</td>\n",
       "      <td>TRIANGLE</td>\n",
       "      <td>19</td>\n",
       "      <td>1910</td>\n",
       "      <td>5.86</td>\n",
       "      <td>TRI</td>\n",
       "    </tr>\n",
       "    <tr>\n",
       "      <th>2</th>\n",
       "      <td>TS03</td>\n",
       "      <td>TRIANGLE</td>\n",
       "      <td>02</td>\n",
       "      <td>0201</td>\n",
       "      <td>6.59</td>\n",
       "      <td>TRI</td>\n",
       "    </tr>\n",
       "    <tr>\n",
       "      <th>3</th>\n",
       "      <td>TS04</td>\n",
       "      <td>TRIANGLE</td>\n",
       "      <td>25</td>\n",
       "      <td>2518</td>\n",
       "      <td>6.22</td>\n",
       "      <td>TRI</td>\n",
       "    </tr>\n",
       "    <tr>\n",
       "      <th>4</th>\n",
       "      <td>TS05</td>\n",
       "      <td>TRIANGLE</td>\n",
       "      <td>19</td>\n",
       "      <td>1911</td>\n",
       "      <td>5.47</td>\n",
       "      <td>TRI</td>\n",
       "    </tr>\n",
       "  </tbody>\n",
       "</table>\n",
       "</div>"
      ],
      "text/plain": [
       "  Lab Ref  SOURCE/OWNER farm /sec Field #  pH (CaCl2) zone\n",
       "0     TS01     TRIANGLE         8     843        6.10  TRI\n",
       "1     TS02     TRIANGLE        19    1910        5.86  TRI\n",
       "2     TS03     TRIANGLE        02    0201        6.59  TRI\n",
       "3     TS04     TRIANGLE        25    2518        6.22  TRI\n",
       "4     TS05     TRIANGLE        19    1911        5.47  TRI"
      ]
     },
     "execution_count": 42,
     "metadata": {},
     "output_type": "execute_result"
    }
   ],
   "source": [
    "# group by area section \n",
    "data.head()"
   ]
  },
  {
   "cell_type": "code",
   "execution_count": 43,
   "metadata": {},
   "outputs": [],
   "source": [
    "# to be removed when adding individual farm data\n",
    "data['farm /sec'] = pd.to_numeric(data['farm /sec'], errors='coerce')"
   ]
  },
  {
   "cell_type": "code",
   "execution_count": 44,
   "metadata": {},
   "outputs": [
    {
     "data": {
      "text/html": [
       "<div>\n",
       "<style scoped>\n",
       "    .dataframe tbody tr th:only-of-type {\n",
       "        vertical-align: middle;\n",
       "    }\n",
       "\n",
       "    .dataframe tbody tr th {\n",
       "        vertical-align: top;\n",
       "    }\n",
       "\n",
       "    .dataframe thead th {\n",
       "        text-align: right;\n",
       "    }\n",
       "</style>\n",
       "<table border=\"1\" class=\"dataframe\">\n",
       "  <thead>\n",
       "    <tr style=\"text-align: right;\">\n",
       "      <th></th>\n",
       "      <th>Lab Ref</th>\n",
       "      <th>SOURCE/OWNER</th>\n",
       "      <th>farm /sec</th>\n",
       "      <th>Field #</th>\n",
       "      <th>pH (CaCl2)</th>\n",
       "      <th>zone</th>\n",
       "      <th>zone_1</th>\n",
       "    </tr>\n",
       "  </thead>\n",
       "  <tbody>\n",
       "    <tr>\n",
       "      <th>0</th>\n",
       "      <td>TS01</td>\n",
       "      <td>TRIANGLE</td>\n",
       "      <td>8.0</td>\n",
       "      <td>843</td>\n",
       "      <td>6.10</td>\n",
       "      <td>TRI</td>\n",
       "      <td>TRI - 8.0</td>\n",
       "    </tr>\n",
       "    <tr>\n",
       "      <th>1</th>\n",
       "      <td>TS02</td>\n",
       "      <td>TRIANGLE</td>\n",
       "      <td>19.0</td>\n",
       "      <td>1910</td>\n",
       "      <td>5.86</td>\n",
       "      <td>TRI</td>\n",
       "      <td>TRI - 19.0</td>\n",
       "    </tr>\n",
       "    <tr>\n",
       "      <th>2</th>\n",
       "      <td>TS03</td>\n",
       "      <td>TRIANGLE</td>\n",
       "      <td>2.0</td>\n",
       "      <td>0201</td>\n",
       "      <td>6.59</td>\n",
       "      <td>TRI</td>\n",
       "      <td>TRI - 2.0</td>\n",
       "    </tr>\n",
       "    <tr>\n",
       "      <th>3</th>\n",
       "      <td>TS04</td>\n",
       "      <td>TRIANGLE</td>\n",
       "      <td>25.0</td>\n",
       "      <td>2518</td>\n",
       "      <td>6.22</td>\n",
       "      <td>TRI</td>\n",
       "      <td>TRI - 25.0</td>\n",
       "    </tr>\n",
       "    <tr>\n",
       "      <th>4</th>\n",
       "      <td>TS05</td>\n",
       "      <td>TRIANGLE</td>\n",
       "      <td>19.0</td>\n",
       "      <td>1911</td>\n",
       "      <td>5.47</td>\n",
       "      <td>TRI</td>\n",
       "      <td>TRI - 19.0</td>\n",
       "    </tr>\n",
       "  </tbody>\n",
       "</table>\n",
       "</div>"
      ],
      "text/plain": [
       "  Lab Ref  SOURCE/OWNER  farm /sec Field #  pH (CaCl2) zone      zone_1\n",
       "0     TS01     TRIANGLE        8.0     843        6.10  TRI   TRI - 8.0\n",
       "1     TS02     TRIANGLE       19.0    1910        5.86  TRI  TRI - 19.0\n",
       "2     TS03     TRIANGLE        2.0    0201        6.59  TRI   TRI - 2.0\n",
       "3     TS04     TRIANGLE       25.0    2518        6.22  TRI  TRI - 25.0\n",
       "4     TS05     TRIANGLE       19.0    1911        5.47  TRI  TRI - 19.0"
      ]
     },
     "execution_count": 44,
     "metadata": {},
     "output_type": "execute_result"
    }
   ],
   "source": [
    "data['zone_1'] = data['zone'] + ' - ' + data['farm /sec'].astype(str)\n",
    "data.head()"
   ]
  },
  {
   "cell_type": "code",
   "execution_count": 45,
   "metadata": {},
   "outputs": [
    {
     "name": "stdout",
     "output_type": "stream",
     "text": [
      "zone_1\n",
      "HVE - nan      503\n",
      "MKW - nan      364\n",
      "ZSAES - nan    352\n",
      "HVE - 8.0      281\n",
      "TRI - 52.0     240\n",
      "              ... \n",
      "HVE - 13.0       1\n",
      "HVE - 6.0        1\n",
      "TRI - 115.0      1\n",
      "TRI - 5.0        1\n",
      "HVE - 140.0      1\n",
      "Name: count, Length: 85, dtype: int64\n"
     ]
    }
   ],
   "source": [
    "all = data['zone_1'].value_counts()\n",
    "print(all)"
   ]
  },
  {
   "cell_type": "code",
   "execution_count": 46,
   "metadata": {},
   "outputs": [],
   "source": [
    "# grouped_2 = data.groupby('zone_1')['pH (CaCl2)'].agg(['mean', 'min', 'max'])\n",
    "\n",
    "# # min and max pH values\n",
    "# min_zone = data.loc[data['pH (CaCl2)'].idxmin(), 'zone_1']\n",
    "# max_zone = data.loc[data['pH (CaCl2)'].idxmax(), 'zone_1']\n",
    "\n",
    "# print(grouped_2.head())\n",
    "# print(f\"Zone with minimum pH: {min_zone}\")\n",
    "# print(f\"Zone with maximum pH: {max_zone}\")\n"
   ]
  },
  {
   "cell_type": "code",
   "execution_count": 47,
   "metadata": {},
   "outputs": [
    {
     "name": "stdout",
     "output_type": "stream",
     "text": [
      "          zone_1      mean   min   max sect_pH_min sect_pH_max\n",
      "0     HVE - 10.0  7.906729  6.04  9.28        1005        1016\n",
      "1     HVE - 11.0  6.202167  5.10  7.75        1160        1116\n",
      "2     HVE - 12.0  6.566140  5.38  7.60        1229      H1226B\n",
      "3     HVE - 13.0  7.060000  7.06  7.06        1248        1248\n",
      "4    HVE - 130.0  6.670000  6.67  6.67      SOIL 1      SOIL 1\n",
      "..           ...       ...   ...   ...         ...         ...\n",
      "80     TRI - nan  6.693091  5.19  8.86         410         3B1\n",
      "81  ZSAES - 10.0  7.651250  7.39  7.85        1010        1010\n",
      "82   ZSAES - 2.0  6.623333  6.53  6.74         NaN         NaN\n",
      "83  ZSAES - 23.0  7.893333  7.72  8.14       2339B       2339A\n",
      "84   ZSAES - nan  6.277472  4.95  7.99          N2         NaN\n",
      "\n",
      "[85 rows x 6 columns]\n"
     ]
    }
   ],
   "source": [
    "# Group by zone_1 and compute mean, min, and max pH\n",
    "grouped_2 = data.groupby('zone_1')['pH (CaCl2)'].agg(['mean', 'min', 'max']).reset_index()\n",
    "\n",
    "# Find the corresponding farm/section for min and max pH in each zone_1\n",
    "sect_pH_min = data.loc[data.groupby('zone_1')['pH (CaCl2)'].idxmin(), ['zone_1', 'Field #']]\n",
    "sect_pH_max = data.loc[data.groupby('zone_1')['pH (CaCl2)'].idxmax(), ['zone_1', 'Field #']]\n",
    "\n",
    "# Rename columns for clarity\n",
    "sect_pH_min = sect_pH_min.rename(columns={'Field #': 'sect_pH_min'})\n",
    "sect_pH_max = sect_pH_max.rename(columns={'Field #': 'sect_pH_max'})\n",
    "\n",
    "# Merge back with grouped data\n",
    "grouped_2 = grouped_2.merge(sect_pH_min, on='zone_1', how='left')\n",
    "grouped_2 = grouped_2.merge(sect_pH_max, on='zone_1', how='left')\n",
    "\n",
    "print(grouped_2)\n"
   ]
  },
  {
   "cell_type": "code",
   "execution_count": 48,
   "metadata": {},
   "outputs": [],
   "source": [
    "grouped_2.to_excel(\"Grouped 2.xlsx\")\n"
   ]
  }
 ],
 "metadata": {
  "kernelspec": {
   "display_name": ".venv",
   "language": "python",
   "name": "python3"
  },
  "language_info": {
   "codemirror_mode": {
    "name": "ipython",
    "version": 3
   },
   "file_extension": ".py",
   "mimetype": "text/x-python",
   "name": "python",
   "nbconvert_exporter": "python",
   "pygments_lexer": "ipython3",
   "version": "3.11.9"
  }
 },
 "nbformat": 4,
 "nbformat_minor": 2
}
