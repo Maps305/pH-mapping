{
 "cells": [
  {
   "cell_type": "markdown",
   "metadata": {},
   "source": [
    "## Mapping soil pH variability in the Zimbabwe Sugar Industry:"
   ]
  },
  {
   "cell_type": "code",
   "execution_count": 44,
   "metadata": {},
   "outputs": [
    {
     "ename": "",
     "evalue": "",
     "output_type": "error",
     "traceback": [
      "\u001b[1;31mRunning cells with 'Python 3.11.9' requires the ipykernel package.\n",
      "\u001b[1;31mRun the following command to install 'ipykernel' into the Python environment. \n",
      "\u001b[1;31mCommand: 'c:/Users/smampengesi/AppData/Local/Microsoft/WindowsApps/python3.11.exe -m pip install ipykernel -U --user --force-reinstall'"
     ]
    }
   ],
   "source": [
    "# Libraries\n",
    "import pandas as pd\n",
    "import matplotlib.pyplot as plt"
   ]
  },
  {
   "cell_type": "code",
   "execution_count": 45,
   "metadata": {},
   "outputs": [],
   "source": [
    "data_2018 = pd.read_excel(\"data/Estates Growers & ZSAES Soil 2018.xls\")\n",
    "data_2018['pH (CaCl2)'] = data_2018['pH'].astype(float)"
   ]
  },
  {
   "cell_type": "markdown",
   "metadata": {},
   "source": [
    "### starting with 2018 data"
   ]
  },
  {
   "cell_type": "code",
   "execution_count": null,
   "metadata": {},
   "outputs": [],
   "source": [
    "data_2018.head()"
   ]
  },
  {
   "cell_type": "code",
   "execution_count": null,
   "metadata": {},
   "outputs": [],
   "source": [
    "data_2018.describe()"
   ]
  },
  {
   "cell_type": "code",
   "execution_count": null,
   "metadata": {},
   "outputs": [],
   "source": [
    "print(data_2018.isna().sum())"
   ]
  },
  {
   "cell_type": "code",
   "execution_count": null,
   "metadata": {},
   "outputs": [],
   "source": [
    "# dropp non estate data and null data\n",
    "data_2018.columns = data_2018.columns.str.strip()\n",
    "data_2018_curated = data_2018.dropna(subset=['pH', 'Section'])\n",
    "cats = []\n",
    "for obs in data_2018['Lab Ref']:\n",
    "    if(str(obs).startswith('TSS')):\n",
    "        cats.append('TRI-Private')\n",
    "    elif(str(obs).startswith('HSS')):\n",
    "        cats.append('HVE-Private')\n",
    "    elif(str(obs).startswith('MSS')):\n",
    "        cats.append('MKW-Private')\n",
    "    elif(str(obs).startswith('ZS')):\n",
    "        cats.append('ZSAES')\n",
    "    elif(str(obs).startswith('HS')):\n",
    "        cats.append('HVE')\n",
    "    elif(str(obs).startswith('MS')):\n",
    "        cats.append('MKW')\n",
    "    elif(str(obs).startswith('TS')):\n",
    "        cats.append('TRI')\n",
    "    else:\n",
    "        cats.append('Private')\n",
    "        \n",
    "data_2018['zone'] = cats\n",
    "data_2018.zone.value_counts()"
   ]
  },
  {
   "cell_type": "code",
   "execution_count": null,
   "metadata": {},
   "outputs": [],
   "source": [
    "data = data_2018[data_2018['zone'] != 'Private']\n",
    "\n",
    "data['zone_1'] = data['zone'] + ' - ' + data['Section'].astype(str)\n",
    "data.head()"
   ]
  },
  {
   "cell_type": "code",
   "execution_count": null,
   "metadata": {},
   "outputs": [],
   "source": [
    "# Group by zone_1 and compute mean, min, and max pH\n",
    "grouped_2 = data.groupby('zone_1')['pH'].agg(['mean', 'min', 'max']).reset_index()\n",
    "\n",
    "# Find the corresponding farm/section for min and max pH in each zone_1\n",
    "sect_pH_min = data.loc[data.groupby('zone_1')['pH'].idxmin(), ['zone_1', 'Field #']]\n",
    "sect_pH_max = data.loc[data.groupby('zone_1')['pH'].idxmax(), ['zone_1', 'Field #']]\n",
    "\n",
    "# Rename columns for clarity\n",
    "sect_pH_min = sect_pH_min.rename(columns={'Field #': 'sect_pH_min'})\n",
    "sect_pH_max = sect_pH_max.rename(columns={'Field #': 'sect_pH_max'})\n",
    "\n",
    "# Merge back with grouped data\n",
    "grouped_2 = grouped_2.merge(sect_pH_min, on='zone_1', how='left')\n",
    "grouped_2 = grouped_2.merge(sect_pH_max, on='zone_1', how='left')\n",
    "\n",
    "print(grouped_2)\n"
   ]
  }
 ],
 "metadata": {
  "kernelspec": {
   "display_name": "Python 3",
   "language": "python",
   "name": "python3"
  },
  "language_info": {
   "codemirror_mode": {
    "name": "ipython",
    "version": 3
   },
   "file_extension": ".py",
   "mimetype": "text/x-python",
   "name": "python",
   "nbconvert_exporter": "python",
   "pygments_lexer": "ipython3",
   "version": "3.11.9"
  }
 },
 "nbformat": 4,
 "nbformat_minor": 2
}
